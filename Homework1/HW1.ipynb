{
 "cells": [
  {
   "cell_type": "markdown",
   "id": "673e8ec2",
   "metadata": {},
   "source": [
    "# 讀入CSV 遇到第一個問題(編碼格式ANSI 一開始無法正常讀取)\n",
    "## 編碼格式透過使用記事本打開csv，在右下角看到編碼格式。"
   ]
  },
  {
   "cell_type": "markdown",
   "id": "05d98e65",
   "metadata": {},
   "source": [
    "## 解決方法為 在pd.read(里面加入encoding='ANSI')"
   ]
  },
  {
   "cell_type": "code",
   "execution_count": 4,
   "id": "a9835f07",
   "metadata": {},
   "outputs": [
    {
     "name": "stdout",
     "output_type": "stream",
     "text": [
      "      學校名稱  5年內桌機筆電平板設備數量  5年以上桌機筆電平板設備數量    學校小計\n",
      "0    中山幼兒園             19              15      34\n",
      "1     景興國中              1              36      37\n",
      "2    大安幼兒園             27              14      41\n",
      "3     二玉國小             16              56      72\n",
      "4    文山幼兒園             68              14      82\n",
      "..     ...            ...             ...     ...\n",
      "237   五常國中           1633              45    1678\n",
      "238   大安國小           1584             159    1743\n",
      "239   和平高中           1858             158    2016\n",
      "240   內湖高中           1858             498    2356\n",
      "241     總計         106702           34569  141271\n",
      "\n",
      "[242 rows x 4 columns]\n"
     ]
    }
   ],
   "source": [
    "import pandas as pd\n",
    "\n",
    "df = pd.read_csv('task data.csv', encoding='ANSI')\n",
    "\n",
    "print(df) "
   ]
  },
  {
   "cell_type": "markdown",
   "id": "72525f36",
   "metadata": {},
   "source": [
    "# 1.哪一間學校擁有最少設備 (遇到問題 千位分隔符逗號)"
   ]
  },
  {
   "cell_type": "code",
   "execution_count": 15,
   "id": "7b9a2985",
   "metadata": {},
   "outputs": [
    {
     "data": {
      "text/html": [
       "<div>\n",
       "<style scoped>\n",
       "    .dataframe tbody tr th:only-of-type {\n",
       "        vertical-align: middle;\n",
       "    }\n",
       "\n",
       "    .dataframe tbody tr th {\n",
       "        vertical-align: top;\n",
       "    }\n",
       "\n",
       "    .dataframe thead th {\n",
       "        text-align: right;\n",
       "    }\n",
       "</style>\n",
       "<table border=\"1\" class=\"dataframe\">\n",
       "  <thead>\n",
       "    <tr style=\"text-align: right;\">\n",
       "      <th></th>\n",
       "      <th>學校名稱</th>\n",
       "      <th>5年內桌機筆電平板設備數量</th>\n",
       "      <th>5年以上桌機筆電平板設備數量</th>\n",
       "      <th>學校小計</th>\n",
       "    </tr>\n",
       "  </thead>\n",
       "  <tbody>\n",
       "    <tr>\n",
       "      <th>0</th>\n",
       "      <td>中山幼兒園</td>\n",
       "      <td>19</td>\n",
       "      <td>15</td>\n",
       "      <td>34</td>\n",
       "    </tr>\n",
       "    <tr>\n",
       "      <th>1</th>\n",
       "      <td>景興國中</td>\n",
       "      <td>1</td>\n",
       "      <td>36</td>\n",
       "      <td>37</td>\n",
       "    </tr>\n",
       "    <tr>\n",
       "      <th>2</th>\n",
       "      <td>大安幼兒園</td>\n",
       "      <td>27</td>\n",
       "      <td>14</td>\n",
       "      <td>41</td>\n",
       "    </tr>\n",
       "    <tr>\n",
       "      <th>3</th>\n",
       "      <td>二玉國小</td>\n",
       "      <td>16</td>\n",
       "      <td>56</td>\n",
       "      <td>72</td>\n",
       "    </tr>\n",
       "    <tr>\n",
       "      <th>4</th>\n",
       "      <td>文山幼兒園</td>\n",
       "      <td>68</td>\n",
       "      <td>14</td>\n",
       "      <td>82</td>\n",
       "    </tr>\n",
       "    <tr>\n",
       "      <th>...</th>\n",
       "      <td>...</td>\n",
       "      <td>...</td>\n",
       "      <td>...</td>\n",
       "      <td>...</td>\n",
       "    </tr>\n",
       "    <tr>\n",
       "      <th>237</th>\n",
       "      <td>五常國中</td>\n",
       "      <td>1633</td>\n",
       "      <td>45</td>\n",
       "      <td>1678</td>\n",
       "    </tr>\n",
       "    <tr>\n",
       "      <th>238</th>\n",
       "      <td>大安國小</td>\n",
       "      <td>1584</td>\n",
       "      <td>159</td>\n",
       "      <td>1743</td>\n",
       "    </tr>\n",
       "    <tr>\n",
       "      <th>239</th>\n",
       "      <td>和平高中</td>\n",
       "      <td>1858</td>\n",
       "      <td>158</td>\n",
       "      <td>2016</td>\n",
       "    </tr>\n",
       "    <tr>\n",
       "      <th>240</th>\n",
       "      <td>內湖高中</td>\n",
       "      <td>1858</td>\n",
       "      <td>498</td>\n",
       "      <td>2356</td>\n",
       "    </tr>\n",
       "    <tr>\n",
       "      <th>241</th>\n",
       "      <td>總計</td>\n",
       "      <td>106702</td>\n",
       "      <td>34569</td>\n",
       "      <td>141271</td>\n",
       "    </tr>\n",
       "  </tbody>\n",
       "</table>\n",
       "<p>242 rows × 4 columns</p>\n",
       "</div>"
      ],
      "text/plain": [
       "      學校名稱  5年內桌機筆電平板設備數量  5年以上桌機筆電平板設備數量    學校小計\n",
       "0    中山幼兒園             19              15      34\n",
       "1     景興國中              1              36      37\n",
       "2    大安幼兒園             27              14      41\n",
       "3     二玉國小             16              56      72\n",
       "4    文山幼兒園             68              14      82\n",
       "..     ...            ...             ...     ...\n",
       "237   五常國中           1633              45    1678\n",
       "238   大安國小           1584             159    1743\n",
       "239   和平高中           1858             158    2016\n",
       "240   內湖高中           1858             498    2356\n",
       "241     總計         106702           34569  141271\n",
       "\n",
       "[242 rows x 4 columns]"
      ]
     },
     "execution_count": 15,
     "metadata": {},
     "output_type": "execute_result"
    }
   ],
   "source": [
    " df.sort_values(by='學校小計')\n"
   ]
  },
  {
   "cell_type": "markdown",
   "id": "7666a415",
   "metadata": {},
   "source": [
    "# 2.請找出資料表裡面為高中的資料"
   ]
  },
  {
   "cell_type": "markdown",
   "id": "73f7ba12",
   "metadata": {},
   "source": [
    "## 透過str.contains()的語法，查找特定資料 "
   ]
  },
  {
   "cell_type": "code",
   "execution_count": 21,
   "id": "e8ec8f9c",
   "metadata": {},
   "outputs": [
    {
     "name": "stdout",
     "output_type": "stream",
     "text": [
      "     學校名稱  5年內桌機筆電平板設備數量  5年以上桌機筆電平板設備數量  學校小計\n",
      "8    成淵高中             15             118   133\n",
      "32   中崙高中             15             234   249\n",
      "73   中正高中            292              43   335\n",
      "84   大理高中            275             100   375\n",
      "91   陽明高中            124             277   401\n",
      "99   成功高中            114             314   428\n",
      "119  南港高中            223             250   473\n",
      "123  西松高中            236             246   482\n",
      "133  育成高中             19             500   519\n",
      "144  華江高中            271             277   548\n",
      "153  大直高中            302             290   592\n",
      "155  萬芳高中            333             262   595\n",
      "162  明倫高中            480             130   610\n",
      "176  永春高中            519             132   651\n",
      "197  松山高中            561             225   786\n",
      "199  建國高中            237             558   795\n",
      "207  大同高中            433             507   940\n",
      "212  復興高中            808             208  1016\n",
      "228  百齡高中            902             495  1397\n",
      "232  麗山高中           1163             335  1498\n",
      "235  南湖高中           1127             443  1570\n",
      "239  和平高中           1858             158  2016\n",
      "240  內湖高中           1858             498  2356\n"
     ]
    }
   ],
   "source": [
    "result = df[df['學校名稱'].str.contains('高中')]\n",
    "print(result)"
   ]
  },
  {
   "cell_type": "markdown",
   "id": "fab77775",
   "metadata": {},
   "source": [
    "# 3.哪間高中擁有的設備最多"
   ]
  },
  {
   "cell_type": "markdown",
   "id": "033199a1",
   "metadata": {},
   "source": [
    "## 要定義出兩個變數 1.查找特定資料的變數 2.排序資料的變數"
   ]
  },
  {
   "cell_type": "code",
   "execution_count": 22,
   "id": "f9871305",
   "metadata": {},
   "outputs": [
    {
     "name": "stdout",
     "output_type": "stream",
     "text": [
      "     學校名稱  5年內桌機筆電平板設備數量  5年以上桌機筆電平板設備數量  學校小計\n",
      "240  內湖高中           1858             498  2356\n",
      "239  和平高中           1858             158  2016\n",
      "235  南湖高中           1127             443  1570\n",
      "232  麗山高中           1163             335  1498\n",
      "228  百齡高中            902             495  1397\n",
      "212  復興高中            808             208  1016\n",
      "207  大同高中            433             507   940\n",
      "199  建國高中            237             558   795\n",
      "197  松山高中            561             225   786\n",
      "176  永春高中            519             132   651\n",
      "162  明倫高中            480             130   610\n",
      "155  萬芳高中            333             262   595\n",
      "153  大直高中            302             290   592\n",
      "144  華江高中            271             277   548\n",
      "133  育成高中             19             500   519\n",
      "123  西松高中            236             246   482\n",
      "119  南港高中            223             250   473\n",
      "99   成功高中            114             314   428\n",
      "91   陽明高中            124             277   401\n",
      "84   大理高中            275             100   375\n",
      "73   中正高中            292              43   335\n",
      "32   中崙高中             15             234   249\n",
      "8    成淵高中             15             118   133\n"
     ]
    }
   ],
   "source": [
    "select = df[df['學校名稱'].str.contains('高中')]\n",
    "result=select.sort_values(by='學校小計', ascending=False)\n",
    "print(result)"
   ]
  },
  {
   "cell_type": "markdown",
   "id": "3eb89ade",
   "metadata": {},
   "source": [
    "# 4.擁有最多設備的高中 是否最新設備也是最多\n"
   ]
  },
  {
   "cell_type": "markdown",
   "id": "3fec7a2b",
   "metadata": {},
   "source": [
    "## ascending 需要定義每一個排序的資料"
   ]
  },
  {
   "cell_type": "code",
   "execution_count": 24,
   "id": "771cdcd7",
   "metadata": {
    "scrolled": true
   },
   "outputs": [
    {
     "name": "stdout",
     "output_type": "stream",
     "text": [
      "     學校名稱  5年內桌機筆電平板設備數量  5年以上桌機筆電平板設備數量  學校小計\n",
      "240  內湖高中           1858             498  2356\n",
      "239  和平高中           1858             158  2016\n",
      "235  南湖高中           1127             443  1570\n",
      "232  麗山高中           1163             335  1498\n",
      "228  百齡高中            902             495  1397\n",
      "212  復興高中            808             208  1016\n",
      "207  大同高中            433             507   940\n",
      "199  建國高中            237             558   795\n",
      "197  松山高中            561             225   786\n",
      "176  永春高中            519             132   651\n",
      "162  明倫高中            480             130   610\n",
      "155  萬芳高中            333             262   595\n",
      "153  大直高中            302             290   592\n",
      "144  華江高中            271             277   548\n",
      "133  育成高中             19             500   519\n",
      "123  西松高中            236             246   482\n",
      "119  南港高中            223             250   473\n",
      "99   成功高中            114             314   428\n",
      "91   陽明高中            124             277   401\n",
      "84   大理高中            275             100   375\n",
      "73   中正高中            292              43   335\n",
      "32   中崙高中             15             234   249\n",
      "8    成淵高中             15             118   133\n"
     ]
    }
   ],
   "source": [
    "select = df[df['學校名稱'].str.contains('高中')]\n",
    "result=select.sort_values(by=['學校小計','5年內桌機筆電平板設備數量'], ascending=[False,False])\n",
    "print(result)"
   ]
  },
  {
   "cell_type": "markdown",
   "id": "9be3fe8b",
   "metadata": {},
   "source": [
    "# 5. 哪些高中 新設備大於舊設備的\n",
    "## 使用> 等比較符號 進行比較"
   ]
  },
  {
   "cell_type": "code",
   "execution_count": 26,
   "id": "5cd53ed9",
   "metadata": {},
   "outputs": [
    {
     "name": "stdout",
     "output_type": "stream",
     "text": [
      "     學校名稱  5年內桌機筆電平板設備數量  5年以上桌機筆電平板設備數量  學校小計\n",
      "73   中正高中            292              43   335\n",
      "84   大理高中            275             100   375\n",
      "153  大直高中            302             290   592\n",
      "155  萬芳高中            333             262   595\n",
      "162  明倫高中            480             130   610\n",
      "176  永春高中            519             132   651\n",
      "197  松山高中            561             225   786\n",
      "212  復興高中            808             208  1016\n",
      "228  百齡高中            902             495  1397\n",
      "232  麗山高中           1163             335  1498\n",
      "235  南湖高中           1127             443  1570\n",
      "239  和平高中           1858             158  2016\n",
      "240  內湖高中           1858             498  2356\n"
     ]
    }
   ],
   "source": [
    "select = df[df['學校名稱'].str.contains('高中')]\n",
    "result=select[select['5年內桌機筆電平板設備數量'] > select['5年以上桌機筆電平板設備數量']]\n",
    "print(result)"
   ]
  },
  {
   "cell_type": "markdown",
   "id": "33bee491",
   "metadata": {},
   "source": [
    "# 6.哪間高中、國中、幼兒園 擁有設備最多"
   ]
  },
  {
   "cell_type": "markdown",
   "id": "e0389371",
   "metadata": {},
   "source": [
    "## 先查找資料，使用max 找出最大資料 使用df.loc 列印出整列資料"
   ]
  },
  {
   "cell_type": "code",
   "execution_count": 33,
   "id": "6e5d5efd",
   "metadata": {},
   "outputs": [
    {
     "name": "stdout",
     "output_type": "stream",
     "text": [
      "     學校名稱  5年內桌機筆電平板設備數量  5年以上桌機筆電平板設備數量  學校小計\n",
      "240  內湖高中           1858             498  2356\n",
      "     學校名稱  5年內桌機筆電平板設備數量  5年以上桌機筆電平板設備數量  學校小計\n",
      "237  五常國中           1633              45  1678\n",
      "        學校名稱  5年內桌機筆電平板設備數量  5年以上桌機筆電平板設備數量  學校小計\n",
      "236  南海實驗幼兒園           1585              42  1627\n"
     ]
    }
   ],
   "source": [
    "select1 = df[df['學校名稱'].str.contains('高中')]\n",
    "select2 = df[df['學校名稱'].str.contains('國中')]\n",
    "select3 = df[df['學校名稱'].str.contains('幼兒園')]\n",
    "max1 =select1['學校小計'].max()\n",
    "max2 =select2['學校小計'].max()\n",
    "max3 =select3['學校小計'].max()\n",
    "pr1=df.loc[df['學校小計'] ==max1]\n",
    "pr2=df.loc[df['學校小計'] ==max2]\n",
    "pr3=df.loc[df['學校小計'] ==max3]\n",
    "print(pr1)\n",
    "print(pr2)\n",
    "print(pr3)"
   ]
  },
  {
   "cell_type": "markdown",
   "id": "67b2a6a5",
   "metadata": {},
   "source": [
    "# 7.哪間高中、國中、幼兒園 擁有5年內設備最多"
   ]
  },
  {
   "cell_type": "markdown",
   "id": "96bab10b",
   "metadata": {},
   "source": [
    "## 使用index1 代表5年內桌機筆電平板設備數量 在使用max() 或是df.loc等語法時 因為index1是變數不能有['']"
   ]
  },
  {
   "cell_type": "code",
   "execution_count": 36,
   "id": "7b3fb329",
   "metadata": {},
   "outputs": [
    {
     "name": "stdout",
     "output_type": "stream",
     "text": [
      "     學校名稱  5年內桌機筆電平板設備數量  5年以上桌機筆電平板設備數量  學校小計\n",
      "239  和平高中           1858             158  2016\n",
      "240  內湖高中           1858             498  2356\n",
      "     學校名稱  5年內桌機筆電平板設備數量  5年以上桌機筆電平板設備數量  學校小計\n",
      "237  五常國中           1633              45  1678\n",
      "        學校名稱  5年內桌機筆電平板設備數量  5年以上桌機筆電平板設備數量  學校小計\n",
      "236  南海實驗幼兒園           1585              42  1627\n"
     ]
    }
   ],
   "source": [
    "index1='5年內桌機筆電平板設備數量'\n",
    "select1 = df[df['學校名稱'].str.contains('高中')]\n",
    "select2 = df[df['學校名稱'].str.contains('國中')]\n",
    "select3 = df[df['學校名稱'].str.contains('幼兒園')]\n",
    "max1 =select1[index1].max()\n",
    "max2 =select2[index1].max()\n",
    "max3 =select3[index1].max()\n",
    "pr1=df.loc[df[index1] ==max1]\n",
    "pr2=df.loc[df[index1] ==max2]\n",
    "pr3=df.loc[df[index1] ==max3]\n",
    "print(pr1)\n",
    "print(pr2)\n",
    "print(pr3)"
   ]
  },
  {
   "cell_type": "markdown",
   "id": "80fe41aa",
   "metadata": {},
   "source": [
    "# 8.哪些學校擁有的設備超過1000台"
   ]
  },
  {
   "cell_type": "code",
   "execution_count": 39,
   "id": "bba36175",
   "metadata": {},
   "outputs": [
    {
     "name": "stdout",
     "output_type": "stream",
     "text": [
      "        學校名稱  5年內桌機筆電平板設備數量  5年以上桌機筆電平板設備數量    學校小計\n",
      "212     復興高中            808             208    1016\n",
      "213     永建國小            955              70    1025\n",
      "214     市大附小            776             276    1052\n",
      "215     大安高工            279             794    1073\n",
      "216     雨聲國小              1              16    1073\n",
      "217     景興國小            915             165    1080\n",
      "218     信義國小            894             207    1101\n",
      "219     博愛國小           1080              62    1142\n",
      "220     大安國中           1044             124    1168\n",
      "221     民權國中           1204              47    1251\n",
      "222     明德國小           1193              60    1253\n",
      "223    jh投國小           1183              76    1259\n",
      "224     義方國小           1131             140    1271\n",
      "225     民生國中           1111             165    1276\n",
      "226     明道國小           1198              93    1291\n",
      "227     松山工農            410             889    1299\n",
      "228     百齡高中            902             495    1397\n",
      "229    一 興國小           1308             123    1431\n",
      "230     明湖國小           1164             271    1435\n",
      "231     國語實小           1358             138    1496\n",
      "232     麗山高中           1163             335    1498\n",
      "233     兩農國小           1504              34    1538\n",
      "234     士林高商           1124             439    1563\n",
      "235     南湖高中           1127             443    1570\n",
      "236  南海實驗幼兒園           1585              42    1627\n",
      "237     五常國中           1633              45    1678\n",
      "238     大安國小           1584             159    1743\n",
      "239     和平高中           1858             158    2016\n",
      "240     內湖高中           1858             498    2356\n",
      "241       總計         106702           34569  141271\n"
     ]
    }
   ],
   "source": [
    "sort= df.sort_values(by='學校小計')\n",
    "\n",
    "result=sort[sort['學校小計'] > 1000]\n",
    "print(result)"
   ]
  },
  {
   "cell_type": "markdown",
   "id": "14fe019c",
   "metadata": {},
   "source": [
    "# 9.承上題 有哪些學校是舊設備大於新設備"
   ]
  },
  {
   "cell_type": "code",
   "execution_count": 40,
   "id": "f0baa78d",
   "metadata": {},
   "outputs": [
    {
     "name": "stdout",
     "output_type": "stream",
     "text": [
      "     學校名稱  5年內桌機筆電平板設備數量  5年以上桌機筆電平板設備數量  學校小計\n",
      "215  大安高工            279             794  1073\n",
      "216  雨聲國小              1              16  1073\n",
      "227  松山工農            410             889  1299\n"
     ]
    }
   ],
   "source": [
    "sort= df.sort_values(by='學校小計')\n",
    "\n",
    "select=sort[sort['學校小計'] > 1000]\n",
    "result=select[select['5年以上桌機筆電平板設備數量'] > select['5年內桌機筆電平板設備數量']]\n",
    "\n",
    "print(result)"
   ]
  },
  {
   "cell_type": "markdown",
   "id": "c5aa7c2b",
   "metadata": {},
   "source": [
    "# 10.在小於1000台的學校中，有哪些是舊設備大於新設備\n"
   ]
  },
  {
   "cell_type": "markdown",
   "id": "0a2c5989",
   "metadata": {},
   "source": [
    "## 使用.shape[0] 來計算輸出幾筆資料"
   ]
  },
  {
   "cell_type": "code",
   "execution_count": 44,
   "id": "69919e63",
   "metadata": {},
   "outputs": [
    {
     "name": "stdout",
     "output_type": "stream",
     "text": [
      "         學校名稱  5年內桌機筆電平板設備數量  5年以上桌機筆電平板設備數量  學校小計\n",
      "1        景興國中              1              36    37\n",
      "3        二玉國小             16              56    72\n",
      "5        芝山國小             26              60    86\n",
      "6        長春國小             13              84    97\n",
      "7        明湖國中             16             115   131\n",
      "8        成淵高中             15             118   133\n",
      "10       萬芳國小             16             121   137\n",
      "12       長安國中             41             125   166\n",
      "13       景美國小             81              89   170\n",
      "17       西湖園中             88             102   190\n",
      "24       力行國小             22             187   209\n",
      "32       中崙高中             15             234   249\n",
      "42       新興國中             93             184   277\n",
      "47       社子國小            140             141   281\n",
      "87       東湖國小            173             214   387\n",
      "88       內湖高工             17             371   388\n",
      "91       陽明高中            124             277   401\n",
      "99       成功高中            114             314   428\n",
      "109  臺北特殊教育學校            177             271   448\n",
      "119      南港高中            223             250   473\n",
      "123      西松高中            236             246   482\n",
      "132      龍門園中            241             271   512\n",
      "133      育成高中             19             500   519\n",
      "134      石牌國中            258             266   524\n",
      "138      石牌國小            198             340   538\n",
      "141      成德國中            251             291   542\n",
      "144      華江高中            271             277   548\n",
      "145      明德國中            249             313   562\n",
      "169      南鬥園中            205             287   619\n",
      "199      建國高中            237             558   795\n",
      "202      南港高工            149             693   842\n",
      "204      木柵高工            353             517   870\n",
      "206      景美女高            286             641   927\n",
      "207      大同高中            433             507   940\n",
      "共輸出了 34 筆資料\n"
     ]
    }
   ],
   "source": [
    "sort= df.sort_values(by='學校小計')\n",
    "\n",
    "select=sort[sort['學校小計'] < 1000]\n",
    "result=select[select['5年以上桌機筆電平板設備數量'] > select['5年內桌機筆電平板設備數量']]\n",
    "count = result.shape[0]\n",
    "print(result)\n",
    "print('共輸出了',count,'筆資料')"
   ]
  },
  {
   "cell_type": "code",
   "execution_count": null,
   "id": "f3358071",
   "metadata": {},
   "outputs": [],
   "source": []
  }
 ],
 "metadata": {
  "kernelspec": {
   "display_name": "Python 3 (ipykernel)",
   "language": "python",
   "name": "python3"
  },
  "language_info": {
   "codemirror_mode": {
    "name": "ipython",
    "version": 3
   },
   "file_extension": ".py",
   "mimetype": "text/x-python",
   "name": "python",
   "nbconvert_exporter": "python",
   "pygments_lexer": "ipython3",
   "version": "3.9.13"
  }
 },
 "nbformat": 4,
 "nbformat_minor": 5
}
