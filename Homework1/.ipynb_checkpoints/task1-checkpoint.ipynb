{
 "cells": [
  {
   "cell_type": "markdown",
   "id": "673e8ec2",
   "metadata": {},
   "source": [
    "# 讀入CSV 遇到第一個問題(編碼格式ANSI 一開始無法正常讀取)\n",
    "## 編碼格式透過使用記事本打開csv，在右下角看到編碼格式。"
   ]
  },
  {
   "cell_type": "markdown",
   "id": "a7cdd56e",
   "metadata": {},
   "source": [
    "## 解決方法為 在pd.read(里面加入encoding='ANSI')"
   ]
  },
  {
   "cell_type": "code",
   "execution_count": 4,
   "id": "a9835f07",
   "metadata": {},
   "outputs": [
    {
     "name": "stdout",
     "output_type": "stream",
     "text": [
      "      學校名稱  5年內桌機筆電平板設備數量  5年以上桌機筆電平板設備數量    學校小計\n",
      "0    中山幼兒園             19              15      34\n",
      "1     景興國中              1              36      37\n",
      "2    大安幼兒園             27              14      41\n",
      "3     二玉國小             16              56      72\n",
      "4    文山幼兒園             68              14      82\n",
      "..     ...            ...             ...     ...\n",
      "237   五常國中           1633              45    1678\n",
      "238   大安國小           1584             159    1743\n",
      "239   和平高中           1858             158    2016\n",
      "240   內湖高中           1858             498    2356\n",
      "241     總計         106702           34569  141271\n",
      "\n",
      "[242 rows x 4 columns]\n"
     ]
    }
   ],
   "source": [
    "import pandas as pd\n",
    "\n",
    "df = pd.read_csv('task data.csv', encoding='ANSI')\n",
    "\n",
    "print(df) "
   ]
  },
  {
   "cell_type": "markdown",
   "id": "72525f36",
   "metadata": {},
   "source": [
    "# 1.哪一間學校擁有最少設備 (遇到問題 千位分隔符逗號)"
   ]
  },
  {
   "cell_type": "code",
   "execution_count": 15,
   "id": "7b9a2985",
   "metadata": {},
   "outputs": [
    {
     "data": {
      "text/html": [
       "<div>\n",
       "<style scoped>\n",
       "    .dataframe tbody tr th:only-of-type {\n",
       "        vertical-align: middle;\n",
       "    }\n",
       "\n",
       "    .dataframe tbody tr th {\n",
       "        vertical-align: top;\n",
       "    }\n",
       "\n",
       "    .dataframe thead th {\n",
       "        text-align: right;\n",
       "    }\n",
       "</style>\n",
       "<table border=\"1\" class=\"dataframe\">\n",
       "  <thead>\n",
       "    <tr style=\"text-align: right;\">\n",
       "      <th></th>\n",
       "      <th>學校名稱</th>\n",
       "      <th>5年內桌機筆電平板設備數量</th>\n",
       "      <th>5年以上桌機筆電平板設備數量</th>\n",
       "      <th>學校小計</th>\n",
       "    </tr>\n",
       "  </thead>\n",
       "  <tbody>\n",
       "    <tr>\n",
       "      <th>0</th>\n",
       "      <td>中山幼兒園</td>\n",
       "      <td>19</td>\n",
       "      <td>15</td>\n",
       "      <td>34</td>\n",
       "    </tr>\n",
       "    <tr>\n",
       "      <th>1</th>\n",
       "      <td>景興國中</td>\n",
       "      <td>1</td>\n",
       "      <td>36</td>\n",
       "      <td>37</td>\n",
       "    </tr>\n",
       "    <tr>\n",
       "      <th>2</th>\n",
       "      <td>大安幼兒園</td>\n",
       "      <td>27</td>\n",
       "      <td>14</td>\n",
       "      <td>41</td>\n",
       "    </tr>\n",
       "    <tr>\n",
       "      <th>3</th>\n",
       "      <td>二玉國小</td>\n",
       "      <td>16</td>\n",
       "      <td>56</td>\n",
       "      <td>72</td>\n",
       "    </tr>\n",
       "    <tr>\n",
       "      <th>4</th>\n",
       "      <td>文山幼兒園</td>\n",
       "      <td>68</td>\n",
       "      <td>14</td>\n",
       "      <td>82</td>\n",
       "    </tr>\n",
       "    <tr>\n",
       "      <th>...</th>\n",
       "      <td>...</td>\n",
       "      <td>...</td>\n",
       "      <td>...</td>\n",
       "      <td>...</td>\n",
       "    </tr>\n",
       "    <tr>\n",
       "      <th>237</th>\n",
       "      <td>五常國中</td>\n",
       "      <td>1633</td>\n",
       "      <td>45</td>\n",
       "      <td>1678</td>\n",
       "    </tr>\n",
       "    <tr>\n",
       "      <th>238</th>\n",
       "      <td>大安國小</td>\n",
       "      <td>1584</td>\n",
       "      <td>159</td>\n",
       "      <td>1743</td>\n",
       "    </tr>\n",
       "    <tr>\n",
       "      <th>239</th>\n",
       "      <td>和平高中</td>\n",
       "      <td>1858</td>\n",
       "      <td>158</td>\n",
       "      <td>2016</td>\n",
       "    </tr>\n",
       "    <tr>\n",
       "      <th>240</th>\n",
       "      <td>內湖高中</td>\n",
       "      <td>1858</td>\n",
       "      <td>498</td>\n",
       "      <td>2356</td>\n",
       "    </tr>\n",
       "    <tr>\n",
       "      <th>241</th>\n",
       "      <td>總計</td>\n",
       "      <td>106702</td>\n",
       "      <td>34569</td>\n",
       "      <td>141271</td>\n",
       "    </tr>\n",
       "  </tbody>\n",
       "</table>\n",
       "<p>242 rows × 4 columns</p>\n",
       "</div>"
      ],
      "text/plain": [
       "      學校名稱  5年內桌機筆電平板設備數量  5年以上桌機筆電平板設備數量    學校小計\n",
       "0    中山幼兒園             19              15      34\n",
       "1     景興國中              1              36      37\n",
       "2    大安幼兒園             27              14      41\n",
       "3     二玉國小             16              56      72\n",
       "4    文山幼兒園             68              14      82\n",
       "..     ...            ...             ...     ...\n",
       "237   五常國中           1633              45    1678\n",
       "238   大安國小           1584             159    1743\n",
       "239   和平高中           1858             158    2016\n",
       "240   內湖高中           1858             498    2356\n",
       "241     總計         106702           34569  141271\n",
       "\n",
       "[242 rows x 4 columns]"
      ]
     },
     "execution_count": 15,
     "metadata": {},
     "output_type": "execute_result"
    }
   ],
   "source": [
    " df.sort_values(by='學校小計')\n"
   ]
  },
  {
   "cell_type": "markdown",
   "id": "d4f3419a",
   "metadata": {},
   "source": [
    "# 2.請找出資料表裡面為高中的資料"
   ]
  },
  {
   "cell_type": "markdown",
   "id": "25167aa4",
   "metadata": {},
   "source": [
    "## 透過str.contains()的語法，查找特定資料 "
   ]
  },
  {
   "cell_type": "code",
   "execution_count": 21,
   "id": "e8ec8f9c",
   "metadata": {},
   "outputs": [
    {
     "name": "stdout",
     "output_type": "stream",
     "text": [
      "     學校名稱  5年內桌機筆電平板設備數量  5年以上桌機筆電平板設備數量  學校小計\n",
      "8    成淵高中             15             118   133\n",
      "32   中崙高中             15             234   249\n",
      "73   中正高中            292              43   335\n",
      "84   大理高中            275             100   375\n",
      "91   陽明高中            124             277   401\n",
      "99   成功高中            114             314   428\n",
      "119  南港高中            223             250   473\n",
      "123  西松高中            236             246   482\n",
      "133  育成高中             19             500   519\n",
      "144  華江高中            271             277   548\n",
      "153  大直高中            302             290   592\n",
      "155  萬芳高中            333             262   595\n",
      "162  明倫高中            480             130   610\n",
      "176  永春高中            519             132   651\n",
      "197  松山高中            561             225   786\n",
      "199  建國高中            237             558   795\n",
      "207  大同高中            433             507   940\n",
      "212  復興高中            808             208  1016\n",
      "228  百齡高中            902             495  1397\n",
      "232  麗山高中           1163             335  1498\n",
      "235  南湖高中           1127             443  1570\n",
      "239  和平高中           1858             158  2016\n",
      "240  內湖高中           1858             498  2356\n"
     ]
    }
   ],
   "source": [
    "result = df[df['學校名稱'].str.contains('高中')]\n",
    "print(result)"
   ]
  },
  {
   "cell_type": "markdown",
   "id": "c608770b",
   "metadata": {},
   "source": [
    "# 3.哪間高中擁有的設備最多"
   ]
  },
  {
   "cell_type": "markdown",
   "id": "7b0de43c",
   "metadata": {},
   "source": [
    "## 要定義出兩個變數 1.查找特定資料的變數 2.排序資料的變數"
   ]
  },
  {
   "cell_type": "code",
   "execution_count": 22,
   "id": "e81dd8c3",
   "metadata": {},
   "outputs": [
    {
     "name": "stdout",
     "output_type": "stream",
     "text": [
      "     學校名稱  5年內桌機筆電平板設備數量  5年以上桌機筆電平板設備數量  學校小計\n",
      "240  內湖高中           1858             498  2356\n",
      "239  和平高中           1858             158  2016\n",
      "235  南湖高中           1127             443  1570\n",
      "232  麗山高中           1163             335  1498\n",
      "228  百齡高中            902             495  1397\n",
      "212  復興高中            808             208  1016\n",
      "207  大同高中            433             507   940\n",
      "199  建國高中            237             558   795\n",
      "197  松山高中            561             225   786\n",
      "176  永春高中            519             132   651\n",
      "162  明倫高中            480             130   610\n",
      "155  萬芳高中            333             262   595\n",
      "153  大直高中            302             290   592\n",
      "144  華江高中            271             277   548\n",
      "133  育成高中             19             500   519\n",
      "123  西松高中            236             246   482\n",
      "119  南港高中            223             250   473\n",
      "99   成功高中            114             314   428\n",
      "91   陽明高中            124             277   401\n",
      "84   大理高中            275             100   375\n",
      "73   中正高中            292              43   335\n",
      "32   中崙高中             15             234   249\n",
      "8    成淵高中             15             118   133\n"
     ]
    }
   ],
   "source": [
    "select = df[df['學校名稱'].str.contains('高中')]\n",
    "result=select.sort_values(by='學校小計', ascending=False)\n",
    "print(result)"
   ]
  },
  {
   "cell_type": "markdown",
   "id": "1c63bab1",
   "metadata": {},
   "source": [
    "# 4.擁有最多設備的高中 是否最新設備也是最多"
   ]
  },
  {
   "cell_type": "code",
   "execution_count": null,
   "id": "bc910546",
   "metadata": {},
   "outputs": [],
   "source": []
  }
 ],
 "metadata": {
  "kernelspec": {
   "display_name": "Python 3 (ipykernel)",
   "language": "python",
   "name": "python3"
  },
  "language_info": {
   "codemirror_mode": {
    "name": "ipython",
    "version": 3
   },
   "file_extension": ".py",
   "mimetype": "text/x-python",
   "name": "python",
   "nbconvert_exporter": "python",
   "pygments_lexer": "ipython3",
   "version": "3.9.13"
  }
 },
 "nbformat": 4,
 "nbformat_minor": 5
}
