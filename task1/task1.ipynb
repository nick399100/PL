{
 "cells": [
  {
   "cell_type": "code",
   "execution_count": 12,
   "id": "9f87ee29",
   "metadata": {},
   "outputs": [
    {
     "name": "stdout",
     "output_type": "stream",
     "text": [
      "   Unnamed: 0             歌手\n",
      "0           1            周杰倫\n",
      "1           2            BTS\n",
      "2           3  Justin Bieber\n",
      "3           4            鄧紫棋\n",
      "4           5            周興哲\n",
      "5           6            告五人\n",
      "6           7            五月天\n",
      "7           8            林俊傑\n",
      "8           9   Taylor Swift\n",
      "9          10            蔡依林\n"
     ]
    }
   ],
   "source": [
    "#2021 spotify 台灣收聽前10名\n",
    "import pandas as pd \n",
    "data1 = pd.read_csv('task data.csv')\n",
    "\n",
    "print(data1) "
   ]
  },
  {
   "cell_type": "code",
   "execution_count": 13,
   "id": "b6341d4e",
   "metadata": {},
   "outputs": [
    {
     "name": "stdout",
     "output_type": "stream",
     "text": [
      "   Unnamed: 0             歌手\n",
      "0           1            周杰倫\n",
      "1           2            BTS\n",
      "2           3            告五人\n",
      "3           4  Justin Bieber\n",
      "4           5            周興哲\n",
      "5           6   Taylor Swift\n",
      "6           7     Ed Sheeran\n",
      "7           8            鄧紫棋\n",
      "8           9            茄子蛋\n",
      "9          10            韋禮安\n"
     ]
    }
   ],
   "source": [
    "#2022 spotify 台灣收聽前10名\n",
    "data2 = pd.read_csv('task data1.csv')\n",
    "\n",
    "print(data2) "
   ]
  },
  {
   "cell_type": "code",
   "execution_count": 14,
   "id": "146b9bf8",
   "metadata": {},
   "outputs": [
    {
     "data": {
      "text/plain": [
       "{' 蔡依林',\n",
       " 'BTS',\n",
       " 'Justin Bieber',\n",
       " 'Taylor Swift',\n",
       " '五月天',\n",
       " '告五人',\n",
       " '周杰倫',\n",
       " '周興哲',\n",
       " '林俊傑',\n",
       " '鄧紫棋'}"
      ]
     },
     "execution_count": 14,
     "metadata": {},
     "output_type": "execute_result"
    }
   ],
   "source": [
    "#列出子集合\n",
    "set_data1 = set(data1[\"歌手\"])\n",
    "set_data1\n"
   ]
  },
  {
   "cell_type": "code",
   "execution_count": 15,
   "id": "3467b686",
   "metadata": {},
   "outputs": [
    {
     "data": {
      "text/plain": [
       "{'BTS',\n",
       " 'Ed Sheeran',\n",
       " 'Justin Bieber',\n",
       " 'Taylor Swift',\n",
       " '告五人',\n",
       " '周杰倫',\n",
       " '周興哲',\n",
       " '茄子蛋',\n",
       " '鄧紫棋',\n",
       " '韋禮安'}"
      ]
     },
     "execution_count": 15,
     "metadata": {},
     "output_type": "execute_result"
    }
   ],
   "source": [
    "#列出子集合\n",
    "set_data2 = set(data2[\"歌手\"])\n",
    "set_data2"
   ]
  },
  {
   "cell_type": "code",
   "execution_count": 16,
   "id": "aac509c4",
   "metadata": {},
   "outputs": [
    {
     "data": {
      "text/plain": [
       "{'BTS', 'Justin Bieber', 'Taylor Swift', '告五人', '周杰倫', '周興哲', '鄧紫棋'}"
      ]
     },
     "execution_count": 16,
     "metadata": {},
     "output_type": "execute_result"
    }
   ],
   "source": [
    "#交集\n",
    "#2021&2022都在收聽前10名\n",
    "(set_data1 & set_data2)"
   ]
  },
  {
   "cell_type": "code",
   "execution_count": 17,
   "id": "59fb675f",
   "metadata": {},
   "outputs": [
    {
     "data": {
      "text/plain": [
       "{' 蔡依林',\n",
       " 'BTS',\n",
       " 'Ed Sheeran',\n",
       " 'Justin Bieber',\n",
       " 'Taylor Swift',\n",
       " '五月天',\n",
       " '告五人',\n",
       " '周杰倫',\n",
       " '周興哲',\n",
       " '林俊傑',\n",
       " '茄子蛋',\n",
       " '鄧紫棋',\n",
       " '韋禮安'}"
      ]
     },
     "execution_count": 17,
     "metadata": {},
     "output_type": "execute_result"
    }
   ],
   "source": [
    "#聯集\n",
    "#2021或2022在收聽前10名\n",
    "(set_data1 | set_data2)"
   ]
  },
  {
   "cell_type": "code",
   "execution_count": 18,
   "id": "044bc8bc",
   "metadata": {},
   "outputs": [
    {
     "data": {
      "text/plain": [
       "{' 蔡依林', '五月天', '林俊傑'}"
      ]
     },
     "execution_count": 18,
     "metadata": {},
     "output_type": "execute_result"
    }
   ],
   "source": [
    "#差集\n",
    "#2021有在收聽前10名但2022沒有\n",
    "(set_data1 - (set_data1 & set_data2))"
   ]
  },
  {
   "cell_type": "code",
   "execution_count": 20,
   "id": "1284efdf",
   "metadata": {},
   "outputs": [
    {
     "data": {
      "text/plain": [
       "{' 蔡依林', 'Ed Sheeran', '五月天', '林俊傑', '茄子蛋', '韋禮安'}"
      ]
     },
     "execution_count": 20,
     "metadata": {},
     "output_type": "execute_result"
    }
   ],
   "source": [
    "#對稱差集\n",
    "#2021有在收聽前10名但2022沒有或是2022有在收聽前10名但2021沒有\n",
    "((set_data1 | set_data2) - (set_data1 & set_data2))"
   ]
  },
  {
   "cell_type": "code",
   "execution_count": null,
   "id": "346c5e16",
   "metadata": {},
   "outputs": [],
   "source": []
  }
 ],
 "metadata": {
  "kernelspec": {
   "display_name": "Python 3 (ipykernel)",
   "language": "python",
   "name": "python3"
  },
  "language_info": {
   "codemirror_mode": {
    "name": "ipython",
    "version": 3
   },
   "file_extension": ".py",
   "mimetype": "text/x-python",
   "name": "python",
   "nbconvert_exporter": "python",
   "pygments_lexer": "ipython3",
   "version": "3.9.13"
  }
 },
 "nbformat": 4,
 "nbformat_minor": 5
}
