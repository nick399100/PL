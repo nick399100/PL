{
 "cells": [
  {
   "cell_type": "markdown",
   "id": "673e8ec2",
   "metadata": {},
   "source": [
    "# 讀入CSV 遇到第一個問題(編碼格式ANSI 一開始無法正常讀取)\n",
    "## 編碼格式透過使用記事本打開csv，在右下角看到編碼格式。"
   ]
  },
  {
   "cell_type": "markdown",
   "id": "05d98e65",
   "metadata": {},
   "source": [
    "## 解決方法為 在pd.read(里面加入encoding='ANSI')"
   ]
  },
  {
   "cell_type": "code",
   "execution_count": 4,
   "id": "a9835f07",
   "metadata": {},
   "outputs": [
    {
     "name": "stdout",
     "output_type": "stream",
     "text": [
      "      學校名稱  5年內桌機筆電平板設備數量  5年以上桌機筆電平板設備數量    學校小計\n",
      "0    中山幼兒園             19              15      34\n",
      "1     景興國中              1              36      37\n",
      "2    大安幼兒園             27              14      41\n",
      "3     二玉國小             16              56      72\n",
      "4    文山幼兒園             68              14      82\n",
      "..     ...            ...             ...     ...\n",
      "237   五常國中           1633              45    1678\n",
      "238   大安國小           1584             159    1743\n",
      "239   和平高中           1858             158    2016\n",
      "240   內湖高中           1858             498    2356\n",
      "241     總計         106702           34569  141271\n",
      "\n",
      "[242 rows x 4 columns]\n"
     ]
    }
   ],
   "source": [
    "import pandas as pd\n",
    "\n",
    "df = pd.read_csv('task data.csv', encoding='ANSI')\n",
    "\n",
    "print(df) "
   ]
  },
  {
   "cell_type": "markdown",
   "id": "7666a415",
   "metadata": {},
   "source": [
    "# 2.請找出資料表裡面為高中的資料"
   ]
  },
  {
   "cell_type": "markdown",
   "id": "73f7ba12",
   "metadata": {},
   "source": [
    "## 透過str.contains()的語法，查找特定資料 "
   ]
  },
  {
   "cell_type": "code",
   "execution_count": 22,
   "id": "e8ec8f9c",
   "metadata": {},
   "outputs": [
    {
     "name": "stdout",
     "output_type": "stream",
     "text": [
      "     學校名稱  5年內桌機筆電平板設備數量  5年以上桌機筆電平板設備數量  學校小計\n",
      "8    成淵高中             15             118   133\n",
      "32   中崙高中             15             234   249\n",
      "73   中正高中            292              43   335\n",
      "84   大理高中            275             100   375\n",
      "91   陽明高中            124             277   401\n",
      "99   成功高中            114             314   428\n",
      "119  南港高中            223             250   473\n",
      "123  西松高中            236             246   482\n",
      "133  育成高中             19             500   519\n",
      "144  華江高中            271             277   548\n",
      "153  大直高中            302             290   592\n",
      "155  萬芳高中            333             262   595\n",
      "162  明倫高中            480             130   610\n",
      "176  永春高中            519             132   651\n",
      "197  松山高中            561             225   786\n",
      "199  建國高中            237             558   795\n",
      "207  大同高中            433             507   940\n",
      "212  復興高中            808             208  1016\n",
      "228  百齡高中            902             495  1397\n",
      "232  麗山高中           1163             335  1498\n",
      "235  南湖高中           1127             443  1570\n",
      "239  和平高中           1858             158  2016\n",
      "240  內湖高中           1858             498  2356\n"
     ]
    }
   ],
   "source": [
    "result = df[df['學校名稱'].str.contains('高中')]\n",
    "print(result)"
   ]
  },
  {
   "cell_type": "markdown",
   "id": "fab77775",
   "metadata": {},
   "source": [
    "# 3.哪間高中擁有的設備最多"
   ]
  },
  {
   "cell_type": "markdown",
   "id": "033199a1",
   "metadata": {},
   "source": [
    "## 要定義出兩個變數 1.查找特定資料的變數 2.排序資料的變數"
   ]
  },
  {
   "cell_type": "code",
   "execution_count": 31,
   "id": "f9871305",
   "metadata": {},
   "outputs": [
    {
     "name": "stdout",
     "output_type": "stream",
     "text": [
      "     學校名稱  5年內桌機筆電平板設備數量  5年以上桌機筆電平板設備數量  學校小計\n",
      "240  內湖高中           1858             498  2356\n",
      "239  和平高中           1858             158  2016\n",
      "235  南湖高中           1127             443  1570\n",
      "232  麗山高中           1163             335  1498\n",
      "228  百齡高中            902             495  1397\n",
      "212  復興高中            808             208  1016\n",
      "207  大同高中            433             507   940\n",
      "199  建國高中            237             558   795\n",
      "197  松山高中            561             225   786\n",
      "176  永春高中            519             132   651\n",
      "162  明倫高中            480             130   610\n",
      "155  萬芳高中            333             262   595\n",
      "153  大直高中            302             290   592\n",
      "144  華江高中            271             277   548\n",
      "133  育成高中             19             500   519\n",
      "123  西松高中            236             246   482\n",
      "119  南港高中            223             250   473\n",
      "99   成功高中            114             314   428\n",
      "91   陽明高中            124             277   401\n",
      "84   大理高中            275             100   375\n",
      "73   中正高中            292              43   335\n",
      "32   中崙高中             15             234   249\n",
      "8    成淵高中             15             118   133\n"
     ]
    },
    {
     "data": {
      "image/png": "[encoded data removed]",
      "text/plain": [
       "<Figure size 640x480 with 1 Axes>"
      ]
     },
     "metadata": {},
     "output_type": "display_data"
    }
   ],
   "source": [
    "import pandas as pd\n",
    "\n",
    "df = pd.read_csv('task data.csv', encoding='ANSI')\n",
    " \n",
    "select = df[df['學校名稱'].str.contains('高中')]\n",
    "result=select.sort_values(by='學校小計', ascending=False)\n",
    "print(result)\n",
    "import seaborn as sns\n",
    "import matplotlib.pyplot as plt\n",
    "select1=select['學校小計']\n",
    "plt.hist(select1,10,(0,2500),edgecolor='black') #繪製直方圖\n",
    "\n",
    "#添加標題和x,y軸標籤\n",
    "plt.title('histogram')\n",
    "plt.xlabel('equipment number')\n",
    "plt.ylabel('school number')\n",
    "\n",
    "plt.show() #顯示直方圖"
   ]
  },
  {
   "cell_type": "code",
   "execution_count": 32,
   "id": "f2b00948",
   "metadata": {},
   "outputs": [
    {
     "name": "stdout",
     "output_type": "stream",
     "text": [
      "     學校名稱  5年內桌機筆電平板設備數量  5年以上桌機筆電平板設備數量  學校小計\n",
      "237  五常國中           1633              45  1678\n",
      "225  民生國中           1111             165  1276\n",
      "221  民權國中           1204              47  1251\n",
      "220  大安國中           1044             124  1168\n",
      "209  介壽國中            832             129   961\n",
      "200  弘道國中            696             140   836\n",
      "193  古亭國中            651              95   746\n",
      "187  關渡國中            627              89   716\n",
      "182  麗山國中            527             173   700\n",
      "179  木柵國中            432             243   675\n",
      "171  ?公國中            496             133   629\n",
      "168  中山國中            518             100   618\n",
      "165  永吉國中            350             264   614\n",
      "159  東湖國中            443             164   607\n",
      "147  內湖國中            448             121   569\n",
      "145  明德國中            249             313   562\n",
      "142  至善國中            439             103   542\n",
      "141  成德國中            251             291   542\n",
      "134  石牌國中            258             266   524\n",
      "125  北安國中            330             162   492\n",
      "111  北投國中            330             125   455\n",
      "105  仁愛國中            254             188   442\n",
      "92   三民國中            216             199   415\n",
      "82   興福國中            300              68   368\n",
      "76   士林國中            290              55   345\n",
      "68   雙園國中            162             161   323\n",
      "66   中正國中            293              25   318\n",
      "45   福安國中            201              78   279\n",
      "42   新興國中             93             184   277\n",
      "37   濱江國中            217              44   261\n",
      "36   天母國中            204              54   258\n",
      "34   北政國中            214              37   251\n",
      "12   長安國中             41             125   166\n",
      "11   景美國中             78              70   148\n",
      "7    明湖國中             16             115   131\n",
      "1    景興國中              1              36    37\n"
     ]
    },
    {
     "data": {
      "image/png": "[encoded data removed]",
      "text/plain": [
       "<Figure size 640x480 with 1 Axes>"
      ]
     },
     "metadata": {},
     "output_type": "display_data"
    }
   ],
   "source": [
    "import pandas as pd\n",
    "\n",
    "df = pd.read_csv('task data.csv', encoding='ANSI')\n",
    " \n",
    "select = df[df['學校名稱'].str.contains('國中')]\n",
    "result=select.sort_values(by='學校小計', ascending=False)\n",
    "print(result)\n",
    "import seaborn as sns\n",
    "import matplotlib.pyplot as plt\n",
    "select1=select['學校小計']\n",
    "plt.hist(select1,10,(0,2500),edgecolor='black') #繪製直方圖\n",
    "\n",
    "#添加標題和x,y軸標籤\n",
    "plt.title('histogram')\n",
    "plt.xlabel('equipment number')\n",
    "plt.ylabel('school number')\n",
    "\n",
    "plt.show() #顯示直方圖"
   ]
  },
  {
   "cell_type": "code",
   "execution_count": 33,
   "id": "0de3fc46",
   "metadata": {},
   "outputs": [
    {
     "name": "stdout",
     "output_type": "stream",
     "text": [
      "      學校名稱  5年內桌機筆電平板設備數量  5年以上桌機筆電平板設備數量  學校小計\n",
      "238   大安國小           1584             159  1743\n",
      "233   兩農國小           1504              34  1538\n",
      "230   明湖國小           1164             271  1435\n",
      "229  一 興國小           1308             123  1431\n",
      "226   明道國小           1198              93  1291\n",
      "..     ...            ...             ...   ...\n",
      "13    景美國小             81              89   170\n",
      "10    萬芳國小             16             121   137\n",
      "6     長春國小             13              84    97\n",
      "5     芝山國小             26              60    86\n",
      "3     二玉國小             16              56    72\n",
      "\n",
      "[121 rows x 4 columns]\n"
     ]
    },
    {
     "data": {
      "image/png": "[encoded data removed]",
      "text/plain": [
       "<Figure size 640x480 with 1 Axes>"
      ]
     },
     "metadata": {},
     "output_type": "display_data"
    }
   ],
   "source": [
    "import pandas as pd\n",
    "\n",
    "df = pd.read_csv('task data.csv', encoding='ANSI')\n",
    " \n",
    "select = df[df['學校名稱'].str.contains('國小')]\n",
    "result=select.sort_values(by='學校小計', ascending=False)\n",
    "print(result)\n",
    "import seaborn as sns\n",
    "import matplotlib.pyplot as plt\n",
    "select1=select['學校小計']\n",
    "plt.hist(select1,10,(0,2500),edgecolor='black') #繪製直方圖\n",
    "\n",
    "#添加標題和x,y軸標籤\n",
    "plt.title('histogram')\n",
    "plt.xlabel('equipment number')\n",
    "plt.ylabel('school number')\n",
    "\n",
    "plt.show() #顯示直方圖"
   ]
  },
  {
   "cell_type": "markdown",
   "id": "f8057fcb",
   "metadata": {},
   "source": [
    "# 透過上圖回答三個問題\n",
    "## 1.國小、國中、高中的設備分布數量差不多嗎?\n",
    "## 2.如果不一樣有甚麼共同的趨勢嗎?\n",
    "## 3.為甚麼高中的圖表沒有連續?"
   ]
  },
  {
   "cell_type": "markdown",
   "id": "c6ffa86b",
   "metadata": {},
   "source": [
    "# 問題回答：\n",
    "## 1.國小跟國中比較接近，高中的分布範圍比較大\n",
    "## 2. equipment  0-1000的範圍，數量比較多\n",
    "## 3.因為高中的數據有兩個比較大的值，所以有部分沒有連續"
   ]
  },
  {
   "cell_type": "code",
   "execution_count": null,
   "id": "2dbdd49b",
   "metadata": {},
   "outputs": [],
   "source": []
  }
 ],
 "metadata": {
  "kernelspec": {
   "display_name": "Python 3 (ipykernel)",
   "language": "python",
   "name": "python3"
  },
  "language_info": {
   "codemirror_mode": {
    "name": "ipython",
    "version": 3
   },
   "file_extension": ".py",
   "mimetype": "text/x-python",
   "name": "python",
   "nbconvert_exporter": "python",
   "pygments_lexer": "ipython3",
   "version": "3.9.13"
  }
 },
 "nbformat": 4,
 "nbformat_minor": 5
}
